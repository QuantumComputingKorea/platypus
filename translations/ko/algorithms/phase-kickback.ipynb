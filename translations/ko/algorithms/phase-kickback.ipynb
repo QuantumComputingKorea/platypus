{
  "cells": [
    {
      "cell_type": "markdown",
      "metadata": {
      },
      "source": [
        "# 위상 반동\n",
        "\n",
        "이 페이지에서는 \"위상 반동\"으로 알려진 제어된 양자 게이트의 동작을 다룰 것입니다. 이 흥미로운 양자 효과는 쇼어(Shor)의 인수분해 알고리즘과 그로버(Grover)의 탐색 알고리즘을 비롯한 많은 유명한 양자 알고리즘의 빌딩 블록입니다."
      ]
    },
    {
      "cell_type": "markdown",
      "metadata": {
        "formulas": {
          "_control-qubit-post": {
            "meaning": "This is the state of the control qubit after the controlled gate."
          },
          "_control-qubit-pre": {
            "meaning": "This is the control qubit. This qubit is in a superposition of |0〉 and |1〉."
          },
          "_eig-val-A": {
            "meaning": "This is a complex number, which we call the <i>eigenvalue</i>."
          },
          "_eig-val-U": {
            "meaning": "This is a complex number with magnitude 1.<br><a href='https://en.wikipedia.org/wiki/Euler%27s_formula'>Read more</a>."
          },
          "_eig-vec-A": {
            "meaning": "This is a vector. In this case, this vector is an <i>eigenvector</i> of the matrix 'A'."
          },
          "_eig-vec-U": {
            "meaning": "This is a state vector, and in this case, an eigen<i>state</i> of the matrix 'U', with eigenvalue exp(2πiθ)."
          },
          "_eig-vec-X": {
            "meaning": "This is a state vector, and in this case, an eigen<i>state</i> of the X-gate, with eigenvalue -1."
          },
          "_matrix-A": {
            "meaning": "This letter represents a matrix."
          },
          "_matrix-CU": {
            "meaning": "This is the operation U, controlled by another qubit."
          },
          "_matrix-CX": {
            "meaning": "This the controlled-X (CNOT) gate."
          },
          "_matrix-U": {
            "meaning": "This letter represents a unitary matrix (e.g. a quantum gate)."
          }
        }
      },
      "source": [
        "## 고유 벡터\n",
        "\n",
        "당신은 이미 고유벡터와 고유값에 익숙해야 하지만 그렇지 않다면 [여기](https://www.khanacademy.org/math/linear-algebra/alternate-bases/eigen-everything/v/linear-algebra-introduction-to-eigenvalues-and-eigenvectors) 에서 멋진 소개를 읽을 수 있습니다. 익숙한 경우 *고유* 벡터 방정식을 인식해야 합니다.\n",
        "\n",
        "$$ \\class{_matrix-A}{A}\\class{_eig-vec-A}{|x\\rangle} = \\class{_eig-val-A}{\\lambda}\\class{_eig-vec-A} {|x\\rangle} $$\n",
        "\n",
        "이것은 양자 컴퓨팅에서 훨씬 더 간단합니다. 모든 상태 벡터는 크기가 1이므로 고유값도 크기가 1이어야 합니다. 즉, $\\lambda = e^{2\\pi i \\theta}$입니다. 따라서 양자 게이트 $U$ 및 고유 상태 $|x\\rangle$에 대해 다음을 갖습니다.\n",
        "\n",
        "$$ \\class{_matrix-U}{U}\\class{_eig-vec-U}{|x\\rangle} = \\class{_eig-val-U}{e^{2\\pi i \\theta}}\\ 클래스{_eig-vec-U}{|x\\rangle} $$\n",
        "\n",
        "요약하자면, 게이트가 상태 벡터의 모든 진폭을 동일한 양만큼 회전(및 회전만)하는 경우 해당 상태는 해당 게이트의 *고유 상태* 입니다.\n",
        "\n",
        "<!-- ::: q-block -->\n",
        "\n",
        "### 고유 벡터 탐색\n",
        "\n",
        "아래 위젯을 사용하여 단일 큐비트 게이트가 단일 큐비트 상태를 어떻게 변환하는지 확인하십시오. 어떤 상태가 어떤 게이트의 고유 상태인지 알아낼 수 있습니까?\n",
        "\n",
        "```\n",
        "q-eigenvector-widget\n",
        "```\n",
        "\n",
        "<!-- ::: -->"
      ]
    },
    {
      "cell_type": "markdown",
      "metadata": {
      },
      "source": [
        "## 제어 게이트 및 고유 상태\n",
        "\n",
        "고유 상태의 개념에 익숙해지면 다른 큐비트의 상태에서 이러한 회로를 제어할 때 어떤 일이 발생하는지 생각할 수 있습니다. 예를 들어 $|1\\rangle$ 상태에 작용하는 Z-gate가 음의 전역 위상($\\theta = 0.5$)을 도입한다는 것을 알고 있습니다. 이 작업을 제어할 때 어떤 일이 발생하는지 알아보겠습니다.\n",
        "\n",
        "<!-- ::: q-block.tabs -->\n",
        "\n",
        "### 제어된 Z 게이트\n",
        "\n",
        "<!-- ::: tab -->\n",
        "\n",
        "### |10〉\n",
        "\n",
        "<!-- ::: column(width=200) -->\n",
        "\n",
        "제어 큐비트가 $|0\\rangle$이면 동작은 간단합니다. 아무 반응이 없습니다.\n",
        "\n",
        "<!-- ::: column(width=400) -->\n",
        "\n",
        "![CZ 게이트에 의해 작동되는 상태 01의 2큐비트 레지스터를 보여주는 회로도. 상태는 변함이 없다](images/kickback/tabs/0/0.svg)\n",
        "\n",
        "<!-- ::: -->\n",
        "\n",
        "<!-- ::: tab -->\n",
        "\n",
        "### |11〉\n",
        "\n",
        "<!-- ::: column(width=200) -->\n",
        "\n",
        "제어 큐비트가 $|1\\rangle$이면 게이트는 전역 단계를 도입하지만(오른쪽 이미지의 빼기 기호 참고) 큐비트의 상태는 변경되지 않습니다.\n",
        "\n",
        "<!-- ::: column(width=400) -->\n",
        "\n",
        "![CZ 게이트에 의해 작동되는 상태 01의 2큐비트 레지스터를 보여주는 회로도. 상태는 변함이 없다](images/kickback/tabs/0/1.svg)\n",
        "\n",
        "<!-- ::: -->\n",
        "\n",
        "<!-- ::: tab -->\n",
        "\n",
        "### |1+〉\n",
        "\n",
        "<!-- ::: column(width=200) -->\n",
        "\n",
        "제어된 Z 게이트는 컨트롤이 $|0\\rangle$일 때 아무 일도 하지 않고 컨트롤이 $|1\\rangle$일 때 음의 위상을 도입합니다. 제어 큐비트가 중첩되면 게이트는 제어 큐비트의 $|0\\rangle$ 및 $|1\\rangle$ 상태 사이의 *상대* 위상을 변경합니다.\n",
        "\n",
        "<!-- ::: column(width=400) -->\n",
        "\n",
        "![CZ 게이트에 의해 작동되는 상태 01의 2큐비트 레지스터를 보여주는 회로도. 상태는 변함이 없다](images/kickback/tabs/0/2.svg)\n",
        "\n",
        "<!-- ::: -->\n",
        "\n",
        "<!-- ::: -->\n",
        "\n",
        "<!-- ::: -->\n",
        "\n",
        "제어가 $|{+}\\rangle$이고 대상이 $|1\\rangle$이면 제어된 Z 게이트는 *제어* 큐비트의 상태를 변경하지만 대상 큐비트는 변경되지 않은 상태로 둡니다. 이 효과는 고유값이 제어 큐비트 상태로 되돌아가기 때문에 \"위상 반동\"이라고 합니다."
      ]
    },
    {
      "cell_type": "markdown",
      "metadata": {
      },
      "source": [
        "보다 일반적으로 양자 게이트 $U$가 있고 고유 상태 $|x\\rangle$이면 $|x\\rangle$에 작용하는 $U$는 위에서 본 것처럼 전역 위상 $\\theta$를 추가합니다.\n",
        "\n",
        "$$ \\class{_matrix-U}{U}\\class{_eig-vec-U}{|x\\rangle} = \\class{_eig-val-U}{e^{2\\pi i \\theta}}\\ 클래스{_eig-vec-U}{|x\\rangle} $$\n",
        "\n",
        "$|0\\rangle$과 $|1\\rangle$의 중첩에서 다른 큐비트에 의해 $U|x\\rangle$ 작업을 제어하면 Z축을 중심으로 제어 큐비트를 회전시키는 효과가 있습니다. 각도 $\\theta$. 즉:\n",
        "\n",
        "$$ \\class{_matrix-CU}{CU}\\class{_eig-vec-U}{|x\\rangle}\\class{_control-qubit-pre}{(\\alpha|0\\rangle + \\beta|1\\ rangle)} = \\class{_eig-vec-U}{|x\\rangle}\\class{_control-qubit-post}{(\\alpha|0\\rangle + \\beta e^{2\\pi i \\theta}| 1\\rangle)} $$"
      ]
    },
    {
      "cell_type": "markdown",
      "metadata": {
      },
      "source": [
        "위의 예에서 제어된 Z 게이트의 '제어'가 실제로 Z 회전을 수행하고 있음을 알 수 있습니다. 큐비트만 관찰했어야 하는 것이 실제로 큐비트를 변경했습니다. 이러한 이유로 두 개의 컨트롤로 그려진 제어된 Z 게이트를 종종 볼 수 있습니다."
      ]
    },
    {
      "cell_type": "code",
      "execution_count": 1,
      "metadata": {
      },
      "outputs": [
        {
          "data": {
            "image/svg+xml": [
              "<?xml version=\"1.0\" encoding=\"utf-8\" standalone=\"no\"?>\n",
              "<!DOCTYPE svg PUBLIC \"-//W3C//DTD SVG 1.1//EN\"\n",
              "  \"http://www.w3.org/Graphics/SVG/1.1/DTD/svg11.dtd\">\n",
              "<svg xmlns:xlink=\"http://www.w3.org/1999/xlink\" width=\"125.122271pt\" height=\"123.482399pt\" viewBox=\"0 0 125.122271 123.482399\" xmlns=\"http://www.w3.org/2000/svg\" version=\"1.1\">\n",
              " <metadata>\n",
              "  <rdf:RDF xmlns:dc=\"http://purl.org/dc/elements/1.1/\" xmlns:cc=\"http://creativecommons.org/ns#\" xmlns:rdf=\"http://www.w3.org/1999/02/22-rdf-syntax-ns#\">\n",
              "   <cc:Work>\n",
              "    <dc:type rdf:resource=\"http://purl.org/dc/dcmitype/StillImage\"/>\n",
              "    <dc:date>2022-02-22T13:04:23.056737</dc:date>\n",
              "    <dc:format>image/svg+xml</dc:format>\n",
              "    <dc:creator>\n",
              "     <cc:Agent>\n",
              "      <dc:title>Matplotlib v3.5.1, https://matplotlib.org/</dc:title>\n",
              "     </cc:Agent>\n",
              "    </dc:creator>\n",
              "   </cc:Work>\n",
              "  </rdf:RDF>\n",
              " </metadata>\n",
              " <defs>\n",
              "  <style type=\"text/css\">*{stroke-linejoin: round; stroke-linecap: butt}</style>\n",
              " </defs>\n",
              " <g id=\"figure_1\">\n",
              "  <g id=\"patch_1\">\n",
              "   <path d=\"M 0 123.482399 \n",
              "L 125.122271 123.482399 \n",
              "L 125.122271 0 \n",
              "L 0 0 \n",
              "z\n",
              "\" style=\"fill: #ffffff\"/>\n",
              "  </g>\n",
              "  <g id=\"axes_1\">\n",
              "   <g id=\"line2d_1\">\n",
              "    <path d=\"M 63.381071 43.5608 \n",
              "L 113.377171 43.5608 \n",
              "\" clip-path=\"url(#pb03c8b0eb8)\" style=\"fill: none; stroke: #000000; stroke-width: 2; stroke-linecap: square\"/>\n",
              "   </g>\n",
              "   <g id=\"line2d_2\">\n",
              "    <path d=\"M 63.381071 89.011799 \n",
              "L 113.377171 89.011799 \n",
              "\" clip-path=\"url(#pb03c8b0eb8)\" style=\"fill: none; stroke: #000000; stroke-width: 2; stroke-linecap: square\"/>\n",
              "   </g>\n",
              "   <g id=\"line2d_3\">\n",
              "    <path d=\"M 87.924611 89.011799 \n",
              "L 87.924611 43.5608 \n",
              "\" clip-path=\"url(#pb03c8b0eb8)\" style=\"fill: none; stroke: #1192e8; stroke-width: 2; stroke-linecap: square\"/>\n",
              "   </g>\n",
              "   <g id=\"line2d_4\">\n",
              "    <path d=\"M 87.924611 89.011799 \n",
              "L 87.924611 43.5608 \n",
              "\" clip-path=\"url(#pb03c8b0eb8)\" style=\"fill: none; stroke: #1192e8; stroke-width: 2; stroke-linecap: square\"/>\n",
              "   </g>\n",
              "   <g id=\"patch_2\">\n",
              "    <path d=\"M 87.924611 47.992272 \n",
              "C 89.099851 47.992272 90.227115 47.525344 91.058135 46.694324 \n",
              "C 91.889156 45.863303 92.356083 44.73604 92.356083 43.5608 \n",
              "C 92.356083 42.385559 91.889156 41.258296 91.058135 40.427275 \n",
              "C 90.227115 39.596255 89.099851 39.129327 87.924611 39.129327 \n",
              "C 86.749371 39.129327 85.622107 39.596255 84.791087 40.427275 \n",
              "C 83.960066 41.258296 83.493139 42.385559 83.493139 43.5608 \n",
              "C 83.493139 44.73604 83.960066 45.863303 84.791087 46.694324 \n",
              "C 85.622107 47.525344 86.749371 47.992272 87.924611 47.992272 \n",
              "z\n",
              "\" clip-path=\"url(#pb03c8b0eb8)\" style=\"fill: #1192e8; stroke: #1192e8; stroke-width: 1.5; stroke-linejoin: miter\"/>\n",
              "   </g>\n",
              "   <g id=\"patch_3\">\n",
              "    <path d=\"M 87.924611 93.443271 \n",
              "C 89.099851 93.443271 90.227115 92.976343 91.058135 92.145323 \n",
              "C 91.889156 91.314303 92.356083 90.187039 92.356083 89.011799 \n",
              "C 92.356083 87.836559 91.889156 86.709295 91.058135 85.878275 \n",
              "C 90.227115 85.047254 89.099851 84.580326 87.924611 84.580326 \n",
              "C 86.749371 84.580326 85.622107 85.047254 84.791087 85.878275 \n",
              "C 83.960066 86.709295 83.493139 87.836559 83.493139 89.011799 \n",
              "C 83.493139 90.187039 83.960066 91.314303 84.791087 92.145323 \n",
              "C 85.622107 92.976343 86.749371 93.443271 87.924611 93.443271 \n",
              "z\n",
              "\" clip-path=\"url(#pb03c8b0eb8)\" style=\"fill: #1192e8; stroke: #1192e8; stroke-width: 1.5; stroke-linejoin: miter\"/>\n",
              "   </g>\n",
              "   <g id=\"text_1\">\n",
              "    <g clip-path=\"url(#pb03c8b0eb8)\">\n",
              "     <!-- ${q}_{0}$ -->\n",
              "     <g transform=\"translate(36.253371 47.7858)scale(0.1625 -0.1625)\">\n",
              "      <defs>\n",
              "       <path id=\"DejaVuSans-Oblique-71\" d=\"M 2669 525 \n",
              "Q 2438 222 2123 65 \n",
              "Q 1809 -91 1428 -91 \n",
              "Q 897 -91 595 267 \n",
              "Q 294 625 294 1253 \n",
              "Q 294 1759 480 2231 \n",
              "Q 666 2703 1013 3078 \n",
              "Q 1238 3322 1530 3453 \n",
              "Q 1822 3584 2144 3584 \n",
              "Q 2531 3584 2781 3431 \n",
              "Q 3031 3278 3144 2969 \n",
              "L 3244 3494 \n",
              "L 3822 3494 \n",
              "L 2888 -1319 \n",
              "L 2309 -1319 \n",
              "L 2669 525 \n",
              "z\n",
              "M 891 1338 \n",
              "Q 891 875 1084 633 \n",
              "Q 1278 391 1644 391 \n",
              "Q 2188 391 2572 911 \n",
              "Q 2956 1431 2956 2175 \n",
              "Q 2956 2625 2757 2864 \n",
              "Q 2559 3103 2188 3103 \n",
              "Q 1916 3103 1684 2976 \n",
              "Q 1453 2850 1281 2606 \n",
              "Q 1100 2350 995 2006 \n",
              "Q 891 1663 891 1338 \n",
              "z\n",
              "\" transform=\"scale(0.015625)\"/>\n",
              "       <path id=\"DejaVuSans-30\" d=\"M 2034 4250 \n",
              "Q 1547 4250 1301 3770 \n",
              "Q 1056 3291 1056 2328 \n",
              "Q 1056 1369 1301 889 \n",
              "Q 1547 409 2034 409 \n",
              "Q 2525 409 2770 889 \n",
              "Q 3016 1369 3016 2328 \n",
              "Q 3016 3291 2770 3770 \n",
              "Q 2525 4250 2034 4250 \n",
              "z\n",
              "M 2034 4750 \n",
              "Q 2819 4750 3233 4129 \n",
              "Q 3647 3509 3647 2328 \n",
              "Q 3647 1150 3233 529 \n",
              "Q 2819 -91 2034 -91 \n",
              "Q 1250 -91 836 529 \n",
              "Q 422 1150 422 2328 \n",
              "Q 422 3509 836 4129 \n",
              "Q 1250 4750 2034 4750 \n",
              "z\n",
              "\" transform=\"scale(0.015625)\"/>\n",
              "      </defs>\n",
              "      <use xlink:href=\"#DejaVuSans-Oblique-71\"/>\n",
              "      <use xlink:href=\"#DejaVuSans-30\" transform=\"translate(63.476562 -16.40625)scale(0.7)\"/>\n",
              "     </g>\n",
              "    </g>\n",
              "   </g>\n",
              "   <g id=\"text_2\">\n",
              "    <g clip-path=\"url(#pb03c8b0eb8)\">\n",
              "     <!-- ${q}_{1}$ -->\n",
              "     <g transform=\"translate(36.253371 93.236799)scale(0.1625 -0.1625)\">\n",
              "      <defs>\n",
              "       <path id=\"DejaVuSans-31\" d=\"M 794 531 \n",
              "L 1825 531 \n",
              "L 1825 4091 \n",
              "L 703 3866 \n",
              "L 703 4441 \n",
              "L 1819 4666 \n",
              "L 2450 4666 \n",
              "L 2450 531 \n",
              "L 3481 531 \n",
              "L 3481 0 \n",
              "L 794 0 \n",
              "L 794 531 \n",
              "z\n",
              "\" transform=\"scale(0.015625)\"/>\n",
              "      </defs>\n",
              "      <use xlink:href=\"#DejaVuSans-Oblique-71\"/>\n",
              "      <use xlink:href=\"#DejaVuSans-31\" transform=\"translate(63.476562 -16.40625)scale(0.7)\"/>\n",
              "     </g>\n",
              "    </g>\n",
              "   </g>\n",
              "  </g>\n",
              " </g>\n",
              " <defs>\n",
              "  <clipPath id=\"pb03c8b0eb8\">\n",
              "   <rect x=\"7.2\" y=\"7.2\" width=\"110.722271\" height=\"109.082399\"/>\n",
              "  </clipPath>\n",
              " </defs>\n",
              "</svg>\n"
            ],
            "text/plain": [
              "<Figure size 146.652x144.48 with 1 Axes>"
            ]
          },
          "execution_count": 1,
          "metadata": {
          },
          "output_type": "execute_result"
        }
      ],
      "source": [
        "from qiskit import QuantumCircuit\n",
        "qc = QuantumCircuit(2)\n",
        "qc.cz(0,1)\n",
        "qc.draw()"
      ]
    },
    {
      "cell_type": "markdown",
      "metadata": {
      },
      "source": [
        "## 씨넷 게이트\n",
        "\n",
        "다른 2큐비트 게이트를 사용한 위상 반동 효과를 살펴보겠습니다. $|{-}\\rangle$ 상태는 고유값이 $-1$인 X-gate의 고유 상태이므로 다음을 얻습니다.\n",
        "\n",
        "$$ \\class{_matrix-CX}{CX}\\class{_eig-vec-X}{|{-}\\rangle}\\class{_control-qubit-pre}{(\\alpha|0\\rangle + \\beta| 1\\rangle)} = \\class{_eig-vec-X}{|{-}\\rangle}\\class{_control-qubit-post}{(\\alpha|0\\rangle - \\베타 |1\\rangle)} $ $\n",
        "\n",
        "![](images/kickback/cnot-kickback.svg)\n",
        "\n",
        "다시 말하지만, 이 경우 위상 변화 $\\theta = 0.5$이므로 제어 큐비트는 Z축을 중심으로 뒤집힙니다.\n",
        "\n",
        "<!-- ::: q-block -->\n",
        "\n",
        "### 작업 예제\n",
        "\n",
        "<details>\n",
        "    <summary>CNOT 게이트로 반동(확대하려면 클릭)</summary>\n",
        "</details>\n",
        "\n",
        "```\n",
        "q-carousel\n",
        "        div.md\n",
        "            <img src=\"images/kickback/carousel/cnot/carousel-img-0.svg\"><br>By definition, the controlled-X gate (CNOT) flips the state of the target qubit (in our example, the rightmost bit is the target) if the control qubit is $|1\\rangle$. In the image above, we show the CNOT gate transforming one state vector to another.\n",
        "        div.md\n",
        "            <img src=\"images/kickback/carousel/cnot/carousel-img-1.svg\"><br>For example, if the control qubit is in the state $|0\\rangle$, then we always get the exact same statevector back. In the image above, the amplitudes of the states where the control is $|1\\rangle$ are both zero, so we see no effect when we swap them.\n",
        "        div.md\n",
        "            <img src=\"images/kickback/carousel/cnot/carousel-img-2.svg\"><br>Another example: If the control qubit is in the state $|1\\rangle$, then we do an X-gate on the target qubit. In this case, the target qubit is in an eigenstate of the X-gate, so we get the same statevector back, up to global phase. This change is a global phase, since the relative phase between the $|0\\rangle$ and $|1\\rangle$ amplitudes of the target qubit stayed the same.\n",
        "        div.md\n",
        "            <img src=\"images/kickback/carousel/cnot/carousel-img-3.svg\"><br>Let us look at the state vector when the control is in the state $|{+}\\rangle$ (i.e. $\\tfrac{1}{\\sqrt{2}}(|0\\rangle + |1\\rangle)$), and the target in the state $|{-}\\rangle$ (i.e. $\\tfrac{1}{\\sqrt{2}}(|0\\rangle - |1\\rangle)$). We can see these two qubits are separable, as measuring one does not affect the state of the other.\n",
        "        div.md\n",
        "            <img src=\"images/kickback/carousel/cnot/carousel-img-4.svg\"><br> For example, regardless of whether we measure the control qubit as $|0\\rangle$ or $|1\\rangle$, the amplitudes for measuring the target as $|0\\rangle$ or $|1\\rangle$ stay the same.\n",
        "        div.md\n",
        "            <img src=\"images/kickback/carousel/cnot/carousel-img-5.svg\"><br>With all this in mind, let's see what happens when we apply the CNOT to this $|{+}{-}\\rangle$ state.\n",
        "        div.md\n",
        "            <img src=\"images/kickback/carousel/cnot/carousel-img-6.svg\"><br>After the CNOT, these qubits are still separable, as the state of one does not change when we measure the other. However, the relative phase between the $|0\\rangle$ and $|1\\rangle$ amplitudes of the control qubit has changed!\n",
        "```\n",
        "\n",
        "\n",
        "\n",
        "\n",
        "<!-- ::: -->\n",
        "\n",
        "H-gate가 $|0\\rangle \\rightarrow |{+}\\rangle$ 및 $|1\\rangle \\rightarrow |{-}\\rangle$(또는 그 반대로) 변환을 수행한다는 것을 기억할 때 다음을 얻습니다. 신원:\n",
        "\n",
        "![](images/kickback/cnot-identity.svg)"
      ]
    },
    {
      "cell_type": "markdown",
      "metadata": {
      },
      "source": [
        "## 도이치의 문제\n",
        "\n",
        "큐비트의 상태에 대한 조건화 작업이 실제로 제어 큐비트의 상태를 변경할 수 있음을 방금 보았습니다. 이것은 '양자' 효과입니다. 즉, 클래식 비트에서는 볼 수 없는 현상입니다.\n",
        "\n",
        "양자 컴퓨팅에서 우리는 고전적인 컴퓨터가 수행 *할 수 없는* 알고리즘을 만들고자 하므로 시작하기에 좋은 곳은 이 효과를 해결해야 할 문제로 재구성하고 시도하는 것입니다. 이런 식으로 우리는 양자 컴퓨터가 고전 컴퓨터보다 적어도 약간 더 낫다는 것을 증명할 수 있습니다.\n",
        "\n",
        "Deutsch의 문제는 정확히 이것을 수행합니다. Deutsch's는 '블랙박스' 문제입니다. 비트에 함수를 적용할 수는 있지만 함수가 어떻게 작동하는지 볼 수 없는 인위적인 문제입니다. 도전 과제는 다양한 입력 및 출력을 시도하여 상자의 일부 속성을 발견하는 것입니다.\n",
        "\n",
        "Deutsch의 문제는 다음과 같습니다. 우리는 $ a $ &amp; $ b $의 두 비트에서 작동하는 고전적이고 가역적인 함수($f$를 약칭으로 부를 것입니다)를 받았습니다. 이 함수는 비트 $ $를 그대로 두지만 비트 $ b $를 뒤집을 수도 있고 그렇지 않을 수도 있습니다. Deutsch의 문제는 $f$가 $ a $의 값에 따라 다르게 행동하는지(이를 \"균형된\" 행동이라고 부를지) 또는 $ $를 무시하고 $ b $에 대해 항상 동일한 작업을 수행하는지 알아내도록 요청합니다. (\"일정한\" 행동). 문제는 $f$를 가능한 한 적게 적용하면서 이 작업을 수행하는 것입니다.\n",
        "\n",
        "![양자 회로로서의 도이치 문제의 이미지. 회로에는 각각 'a' 및 'b'로 표시된 상단 및 하단 와이어의 두 비트가 있습니다. 그러면 두 비트 모두 'f'라는 레이블이 붙은 불투명한 2비트 게이트에 의해 작동됩니다. 'f' 이후에 상단 와이어는 여전히 'f'로 레이블이 지정되지만 하단 와이어는 이제 'f(a, b)'로 레이블이 지정됩니다.](images/kickback/deutsch-problem.svg)\n",
        "\n",
        "이 문제에 대한 최고의 고전 알고리즘은 $a $의 다른 값으로 $f$를 두 번 적용한 다음 $f$가 다르게 동작하는지 확인합니다."
      ]
    },
    {
      "cell_type": "markdown",
      "metadata": {
      },
      "source": [
        "## 도이치의 알고리즘\n",
        "\n",
        "짐작하셨겠지만 위상 반동을 사용하여 기존 알고리즘보다 훨씬 더 나은 양자 알고리즘을 만들 수 있습니다. qubit $ a $를 $|{+}\\rangle$ 상태에, qubit $ b $를 $|{-}\\rangle$ 상태에 놓으면 $ a $에 조건을 둔 모든 플립은 음수 상대를 되돌려 놓을 것입니다. 단계, 큐비트 $ a $를 $|{+}\\rangle$에서 $|{-}\\rangle$로 뒤집습니다. 그런 다음 $ $에 H-gate를 적용하여 반동이 발생했는지 여부를 확인할 수 있습니다.\n",
        "\n",
        "![양자 회로로서의 도이치 알고리즘의 이미지.](images/kickback/deutsch-algorithm.svg)\n",
        "\n",
        "<!-- ::: q-block.reminder -->\n",
        "\n",
        "### 더 많은 정보\n",
        "\n",
        "<details><summary>블랙박스 내부(확대하려면 클릭)</summary> 이것이 여전히 마술처럼 보인다면 가능한 모든 Deutsch 기능과 이를 구현하는 양자 회로에 대해 생각하는 것이 도움이 될 수 있습니다. 네 가지 가능한 Deutsch 함수가 있습니다: 두 개의 상수 및 두 개의 균형.</details>\n",
        "\n",
        "상수이면 함수는 아무 것도 하지 않거나 큐비트 $ b $를 뒤집을 수 있습니다. 균형이 맞으면 함수는 $ a $가 $|1\\rangle$일 때만 $ b $를 뒤집거나 $ a $가 $|0\\rangle$일 때만 $ b $를 뒤집을 수 있습니다. 아래 이미지에서 네 가지 시나리오를 모두 볼 수 있습니다.\n",
        "\n",
        "<img src=\"images/kickback/deutsch-oracles.svg\">\n",
        "\n",
        "두 상수 함수 모두에서 최상위 큐비트는 변경되지 않고 유지되며(아무것도 하지 않기 때문에) 균형 기능에서 반동 효과는 최상위 큐비트를 $|{+}\\rangle$에서 $|{-로 뒤집습니다. }\\rangle$.\n",
        "\n",
        "\n",
        "\n",
        "\n",
        "<!-- ::: -->\n",
        "\n",
        "이것은 양자 속도 향상의 가장 인상적인 예가 아닙니다. 그것은 매우 구체적이며 우리는 야생에서 블랙박스 문제를 찾지 못합니다. 대신에 Deutsch의 문제는 고무적인 결과와 탐색할 몇 가지 흥미로운 효과를 제공합니다. 이 과정의 나머지 부분에서는 이 간단한 실험을 확장하여 인수분해를 포함하여 훨씬 더 인상적인 문제를 해결할 것입니다."
      ]
    },
    {
      "cell_type": "markdown",
      "metadata": {
      },
      "source": [
        "<!-- ::: q-block.exercise -->\n",
        "\n",
        "### 연습\n",
        "\n",
        "Deutsch 함수를 `QuantumCircuit` 로 사용하고 Deutsch 알고리즘을 사용하여 양자 시뮬레이터에서 해결하는 함수 `deutsch()` 를 만듭니다. 함수는 Deutsch 기능이 균형이면 `True` 를 반환하고 일정하면 `False` 를 반환해야 합니다.\n",
        "\n",
        "`deutsch_problem()` 함수를 사용하여 `deutsch()` 함수에 대한 입력으로 사용할 수 있는 `QuantumCircuit` 를 생성할 수 있습니다.\n",
        "\n",
        "<!-- ::: -->"
      ]
    },
    {
      "cell_type": "code",
      "execution_count": null,
      "metadata": {
      },
      "outputs": [

      ],
      "source": [
        "from qiskit import QuantumCircuit\n",
        "import numpy as np\n",
        "\n",
        "def deutsch_problem(seed=None):\n",
        "    \"\"\"Returns a circuit that carries out the function\n",
        "    from Deutsch's problem.\n",
        "    Args:\n",
        "        seed (int): If set, then returned circuit will\n",
        "            always be the same for the same seed.\n",
        "    Returns: QuantumCircuit\n",
        "    \"\"\"\n",
        "    np.random.seed(seed)\n",
        "    problem = QuantumCircuit(2)\n",
        "    if np.random.randint(2):\n",
        "        print(\"Function is balanced.\")\n",
        "        problem.cx(0, 1)\n",
        "    else:\n",
        "        print(\"Function is constant.\")\n",
        "    if np.random.randint(2):\n",
        "        problem.x(1)\n",
        "    return problem"
      ]
    },
    {
      "cell_type": "code",
      "execution_count": null,
      "metadata": {
      },
      "outputs": [

      ],
      "source": [
        "def deutsch(function):\n",
        "    \"\"\"Implements Deutsch's algorithm.\n",
        "\n",
        "    Args:\n",
        "        function (QuantumCircuit): Deutsch function to solve.\n",
        "            Must be a 2-qubit circuit, and either balanced,\n",
        "            or constant.\n",
        "    Returns:\n",
        "        bool: True if the circuit is balanced, otherwise False.\n",
        "    \"\"\"\n",
        "\n",
        "    # your code here"
      ]
    },
    {
      "cell_type": "markdown",
      "metadata": {
      },
      "source": [
        "## 요약\n",
        "\n",
        "이 페이지에는 다음이 있습니다.\n",
        "\n",
        "- 고유값과 고유벡터의 개념을 다시 살펴봅니다.\n",
        "- 위상 반동 효과를 탐구하고 몇 가지 구체적인 예를 다뤘습니다.\n",
        "- 양자 컴퓨터가 고전 컴퓨터보다 유리한 시나리오로 도이치의 문제를 도입했습니다.\n",
        "\n",
        "이 페이지에서 다른 모든 것을 잊어버린 경우 기억하고 편안하게 느끼는 가장 중요한 것은 아래의 단계 반동에 대한 요약입니다.\n",
        "\n",
        "<!-- ::: q-block.reminder -->\n",
        "\n",
        "### 알림: 위상 반동\n",
        "\n",
        "양자 게이트 $U$가 있고 고유 상태 $|x\\rangle$이면 $|x\\rangle$에 작용하는 $U$는 전역 위상 $\\theta$를 추가합니다. 즉:\n",
        "\n",
        "$$ \\class{_matrix-U}{U}\\class{_eig-vec-U}{|x\\rangle} = \\class{_eig-val-U}{e^{2\\pi i \\theta}}\\ 클래스{_eig-vec-U}{|x\\rangle} $$\n",
        "\n",
        "$|0\\rangle$과 $|1\\rangle$의 중첩에서 다른 큐비트에 의해 $U|x\\rangle$ 작업을 제어하면 Z축을 중심으로 제어 큐비트를 회전시키는 효과가 있습니다. 각도 $\\theta$. 즉:\n",
        "\n",
        "$$ \\class{_matrix-CU}{CU}\\class{_eig-vec-U}{|x\\rangle}\\class{_control-qubit-pre}{(\\alpha|0\\rangle + \\beta|1\\ rangle)} = \\class{_eig-vec-U}{|x\\rangle}\\class{_control-qubit-post}{(\\alpha|0\\rangle + \\beta e^{2\\pi i \\theta}| 1\\rangle)} $$\n",
        "\n",
        "<!-- ::: -->"
      ]
    }
  ],
  "metadata": {
    "kernelspec": {
      "display_name": "Python 3",
      "language": "python",
      "name": "python3"
    },
    "language_info": {
      "codemirror_mode": {
        "name": "ipython",
        "version": 3
      },
      "file_extension": ".py",
      "mimetype": "text/x-python",
      "name": "python",
      "nbconvert_exporter": "python",
      "pygments_lexer": "ipython3",
      "version": "3.9"
    }
  },
  "nbformat": 4,
  "nbformat_minor": 4
}
